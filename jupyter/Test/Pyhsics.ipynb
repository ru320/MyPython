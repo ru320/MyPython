{
    "cells": [
        {
            "cell_type": "code",
            "execution_count": 2,
            "source": [
                "import os\n",
                "from physics import Q\n",
                "from handcalcs import render\n",
                "import quantities as pq\n",
                "import forallpeople\n",
                "forallpeople.environment('structural',top_level=True)\n"
            ],
            "outputs": [],
            "metadata": {}
        },
        {
            "cell_type": "code",
            "execution_count": 3,
            "source": [
                "print(os.getcwd())\n",
                "cwd = os.getcwd()\n",
                "print(cwd)\n",
                "!pwd"
            ],
            "outputs": [
                {
                    "output_type": "stream",
                    "name": "stdout",
                    "text": [
                        "/home/ru320/Dokumente/python/MyPython/jupyter/Test\n",
                        "/home/ru320/Dokumente/python/MyPython/jupyter/Test\n",
                        "/home/ru320/Dokumente/python/MyPython/jupyter/Test\n"
                    ]
                }
            ],
            "metadata": {}
        },
        {
            "cell_type": "code",
            "execution_count": 4,
            "source": [
                "%%render\n",
                "a = 5\n",
                "b = 7\n"
            ],
            "outputs": [
                {
                    "output_type": "display_data",
                    "data": {
                        "text/plain": [
                            "<IPython.core.display.Latex object>"
                        ],
                        "text/latex": [
                            "\\[\n",
                            "\\begin{aligned}\n",
                            "a &= 5 \\; \n",
                            "\\\\[10pt]\n",
                            "b &= 7 \\; \n",
                            "\\end{aligned}\n",
                            "\\]"
                        ]
                    },
                    "metadata": {}
                }
            ],
            "metadata": {}
        },
        {
            "cell_type": "code",
            "execution_count": 5,
            "source": [
                "%%render params\n",
                "l = 4*mm\n",
                "F = (5*kN)"
            ],
            "outputs": [
                {
                    "output_type": "display_data",
                    "data": {
                        "text/plain": [
                            "<IPython.core.display.Latex object>"
                        ],
                        "text/latex": [
                            "\\[\n",
                            "\\begin{aligned}\n",
                            "l &= 4.000\\ \\text{mm} \\; \n",
                            " &F &= 5.000\\ \\text{kN} \\;\\end{aligned}\n",
                            "\\]"
                        ]
                    },
                    "metadata": {}
                }
            ],
            "metadata": {}
        },
        {
            "cell_type": "code",
            "execution_count": 6,
            "source": [
                "%%render\n",
                "A = l**2\n",
                "P = F/A"
            ],
            "outputs": [
                {
                    "output_type": "display_data",
                    "data": {
                        "text/plain": [
                            "<IPython.core.display.Latex object>"
                        ],
                        "text/latex": [
                            "\\[\n",
                            "\\begin{aligned}\n",
                            "A &= \\left( l \\right) ^{ 2 }  = \\left( 4.000\\ \\text{mm} \\right) ^{ 2 } &= 16.000\\ \\text{mm}^{2}  \n",
                            "\\\\[10pt]\n",
                            "P &= \\frac{ F }{ A }  = \\frac{ 5.000\\ \\text{kN} }{ 16.000\\ \\text{mm}^{2} } &= 312.500\\ \\text{MPa}  \n",
                            "\\end{aligned}\n",
                            "\\]"
                        ]
                    },
                    "metadata": {}
                }
            ],
            "metadata": {}
        },
        {
            "cell_type": "code",
            "execution_count": 7,
            "source": [
                "%%render\n",
                "l = 4*mm\n",
                "F = (5*kN)\n",
                "A = l**2\n",
                "P = F/A\n",
                "A2 = (1000*m**2)\n",
                "F2 = P * A2"
            ],
            "outputs": [
                {
                    "output_type": "display_data",
                    "data": {
                        "text/plain": [
                            "<IPython.core.display.Latex object>"
                        ],
                        "text/latex": [
                            "\\[\n",
                            "\\begin{aligned}\n",
                            "l &= 4 \\cdot \\mathrm{mm}  = 4 \\cdot mm &= 4.000\\ \\text{mm}  \n",
                            "\\\\[10pt]\n",
                            "F &= 5.000\\ \\text{kN} \\; \n",
                            "\\\\[10pt]\n",
                            "A &= \\left( l \\right) ^{ 2 }  = \\left( 4.000\\ \\text{mm} \\right) ^{ 2 } &= 16.000\\ \\text{mm}^{2}  \n",
                            "\\\\[10pt]\n",
                            "P &= \\frac{ F }{ A }  = \\frac{ 5.000\\ \\text{kN} }{ 16.000\\ \\text{mm}^{2} } &= 312.500\\ \\text{MPa}  \n",
                            "\\\\[10pt]\n",
                            "\\mathrm{A2} &= 1000.000\\ \\text{m}^{2} \\; \n",
                            "\\\\[10pt]\n",
                            "\\mathrm{F2} &= P \\cdot \\mathrm{A2}  = 312.500\\ \\text{MPa} \\cdot 1000.000\\ \\text{m}^{2} &= 312.500\\ \\text{GN}  \n",
                            "\\end{aligned}\n",
                            "\\]"
                        ]
                    },
                    "metadata": {}
                }
            ],
            "metadata": {}
        }
    ],
    "metadata": {
        "orig_nbformat": 4,
        "language_info": {
            "name": "python",
            "version": "3.8.10",
            "mimetype": "text/x-python",
            "codemirror_mode": {
                "name": "ipython",
                "version": 3
            },
            "pygments_lexer": "ipython3",
            "nbconvert_exporter": "python",
            "file_extension": ".py"
        },
        "kernelspec": {
            "name": "python3",
            "display_name": "Python 3.8.10 64-bit"
        },
        "interpreter": {
            "hash": "31f2aee4e71d21fbe5cf8b01ff0e069b9275f58929596ceb00d14d90e3e16cd6"
        }
    },
    "nbformat": 4,
    "nbformat_minor": 2
}