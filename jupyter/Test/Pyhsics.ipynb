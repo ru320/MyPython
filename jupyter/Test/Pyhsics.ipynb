{
    "cells": [
        {
            "cell_type": "code",
            "execution_count": 241,
            "source": [
                "import os\n",
                "from physics import Q\n",
                "from handcalcs import render\n",
                "import quantities as pq"
            ],
            "outputs": [],
            "metadata": {}
        },
        {
            "cell_type": "code",
            "execution_count": 242,
            "source": [
                "print(os.getcwd())\n",
                "cwd = os.getcwd()\n",
                "print(cwd)\n",
                "!pwd"
            ],
            "outputs": [
                {
                    "output_type": "stream",
                    "name": "stdout",
                    "text": [
                        "/home/ru320/Dokumente/python/MyPython/jupyter/Test\n",
                        "/home/ru320/Dokumente/python/MyPython/jupyter/Test\n",
                        "/home/ru320/Dokumente/python/MyPython/jupyter/Test\n"
                    ]
                }
            ],
            "metadata": {}
        },
        {
            "cell_type": "code",
            "execution_count": 243,
            "source": [
                "%%render\n",
                "a = 5\n",
                "b = 7\n"
            ],
            "outputs": [
                {
                    "output_type": "display_data",
                    "data": {
                        "text/plain": [
                            "<IPython.core.display.Latex object>"
                        ],
                        "text/latex": [
                            "\\[\n",
                            "\\begin{aligned}\n",
                            "a &= 5 \\; \n",
                            "\\\\[10pt]\n",
                            "b &= 7 \\; \n",
                            "\\end{aligned}\n",
                            "\\]"
                        ]
                    },
                    "metadata": {}
                }
            ],
            "metadata": {}
        },
        {
            "cell_type": "code",
            "execution_count": 244,
            "source": [
                "for x in range(-1,1):\n",
                "    y = a * x + b\n",
                "    print(y)"
            ],
            "outputs": [
                {
                    "output_type": "stream",
                    "name": "stdout",
                    "text": [
                        "2\n",
                        "7\n"
                    ]
                }
            ],
            "metadata": {}
        },
        {
            "cell_type": "code",
            "execution_count": 245,
            "source": [
                "a = Q('1.45 m')\n",
                "b = Q('1 cm')\n"
            ],
            "outputs": [],
            "metadata": {}
        },
        {
            "cell_type": "code",
            "execution_count": 246,
            "source": [
                "%%render\n",
                "c = a - b\n"
            ],
            "outputs": [
                {
                    "output_type": "display_data",
                    "data": {
                        "text/plain": [
                            "<IPython.core.display.Latex object>"
                        ],
                        "text/latex": [
                            "\\[\n",
                            "\\begin{aligned}\n",
                            "c &= a - b  = 1.45 m - 1 cm &= 1.44 m  \n",
                            "\\end{aligned}\n",
                            "\\]"
                        ]
                    },
                    "metadata": {}
                }
            ],
            "metadata": {}
        },
        {
            "cell_type": "code",
            "execution_count": 270,
            "source": [
                "l = Q('10 mm')\n",
                "F = Q('1 kN')\n",
                "A2 = Q('15 mm') * Q('1 mm')"
            ],
            "outputs": [],
            "metadata": {}
        },
        {
            "cell_type": "code",
            "execution_count": 271,
            "source": [
                "%%render\n",
                "A = l**2\n",
                "P = F / A\n",
                "F2 = A2 * P\n"
            ],
            "outputs": [
                {
                    "output_type": "display_data",
                    "data": {
                        "text/plain": [
                            "<IPython.core.display.Latex object>"
                        ],
                        "text/latex": [
                            "\\[\n",
                            "\\begin{aligned}\n",
                            "A &= \\left( l \\right) ^{ 2 }  = \\left( 10 mm \\right) ^{ 2 } &= 100 mm^2  \n",
                            "\\\\[10pt]\n",
                            "P &= \\frac{ F }{ A }  = \\frac{ 1 kN }{ 100 mm^2 } &= 0.01 kN/mm^2  \n",
                            "\\\\[10pt]\n",
                            "\\mathrm{F2} &= \\mathrm{A2} \\cdot P  = 15 mm^2 \\cdot 0.01 kN/mm^2 &= 0.15 kN  \n",
                            "\\end{aligned}\n",
                            "\\]"
                        ]
                    },
                    "metadata": {}
                }
            ],
            "metadata": {}
        },
        {
            "cell_type": "code",
            "execution_count": 266,
            "source": [
                "\n",
                "import numpy as np\n",
                "q = np.array([1,2,3]) * pq.J"
            ],
            "outputs": [],
            "metadata": {}
        },
        {
            "cell_type": "code",
            "execution_count": 267,
            "source": [
                "%%render\n",
                "q\n",
                "q * 5"
            ],
            "outputs": [
                {
                    "output_type": "display_data",
                    "data": {
                        "text/plain": [
                            "<IPython.core.display.Latex object>"
                        ],
                        "text/latex": [
                            "\\[\n",
                            "\\begin{aligned}\n",
                            "q &= [1.0 J,\\ 2.0 J,\\ 3.0 J] \\; \n",
                            "\\\\[10pt]\n",
                            "q \\cdot 5 &= [1.0 J,\\ 2.0 J,\\ 3.0 J]  \n",
                            "\\end{aligned}\n",
                            "\\]"
                        ]
                    },
                    "metadata": {}
                }
            ],
            "metadata": {}
        },
        {
            "cell_type": "code",
            "execution_count": 268,
            "source": [
                "pq.set_default_units('cgs')"
            ],
            "outputs": [],
            "metadata": {}
        },
        {
            "cell_type": "code",
            "execution_count": 269,
            "source": [
                "%%render\n",
                "l = 10 * pq.mm\n",
                "F  =100 * pq.N\n",
                "A = l**2\n",
                "P = F/A\n",
                "\n",
                "A2 = 400 * pq.mm**2\n",
                "F2 = P * A2"
            ],
            "outputs": [
                {
                    "output_type": "display_data",
                    "data": {
                        "text/plain": [
                            "<IPython.core.display.Latex object>"
                        ],
                        "text/latex": [
                            "\\[\n",
                            "\\begin{aligned}\n",
                            "l &= 10 \\cdot \\mathrm{pq.mm}  = 10 \\cdot pq.mm &= 10.0 mm  \n",
                            "\\\\[10pt]\n",
                            "F &= 100 \\cdot \\mathrm{pq.N}  = 100 \\cdot pq.N &= 100.0 N  \n",
                            "\\\\[10pt]\n",
                            "A &= \\left( l \\right) ^{ 2 }  = \\left( 10.0 mm \\right) ^{ 2 } &= 100.0 mm**2  \n",
                            "\\\\[10pt]\n",
                            "P &= \\frac{ F }{ A }  = \\frac{ 100.0 N }{ 100.0 mm**2 } &= 1.0 N/mm**2  \n",
                            "\\\\[10pt]\n",
                            "\\mathrm{A2} &= 400 \\cdot \\left( \\mathrm{pq.mm} \\right) ^{ 2 }  = 400 \\cdot \\left( pq.mm \\right) ^{ 2 } &= 400.0 mm**2  \n",
                            "\\\\[10pt]\n",
                            "\\mathrm{F2} &= P \\cdot \\mathrm{A2}  = 1.0 N/mm**2 \\cdot 400.0 mm**2 &= 400.0 N  \n",
                            "\\end{aligned}\n",
                            "\\]"
                        ]
                    },
                    "metadata": {}
                }
            ],
            "metadata": {}
        }
    ],
    "metadata": {
        "orig_nbformat": 4,
        "language_info": {
            "name": "python"
        }
    },
    "nbformat": 4,
    "nbformat_minor": 2
}